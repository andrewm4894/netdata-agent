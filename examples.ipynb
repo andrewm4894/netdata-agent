{
 "cells": [
  {
   "cell_type": "code",
   "execution_count": 7,
   "metadata": {},
   "outputs": [],
   "source": [
    "from IPython.display import display, Markdown\n",
    "\n",
    "from netdata_llm_agent import NetdataLLMAgent\n",
    "\n",
    "\n",
    "def print_md(text):\n",
    "    display(Markdown(text))\n",
    "\n",
    "\n",
    "# list of netdata urls to interact with\n",
    "netdata_urls = [\n",
    "    'https://localhost:19999/',\n",
    "    'https://london3.my-netdata.io/', \n",
    "    'https://bangalore.my-netdata.io/',\n",
    "    'https://newyork.my-netdata.io/',\n",
    "    'https://sanfrancisco.my-netdata.io/',\n",
    "    'https://singapore.my-netdata.io/',\n",
    "    'https://toronto.my-netdata.io/',\n",
    "]\n",
    "\n",
    "# create agent\n",
    "agent = NetdataLLMAgent(netdata_urls, model='gpt-4o-mini')\n",
    "# create agent using anthropic\n",
    "# agent = NetdataLLMAgent(netdata_urls, model='claude-3-5-sonnet-20241022', platform='anthropic')\n",
    "# create agent using ollama\n",
    "# agent = NetdataLLMAgent(netdata_urls, model='llama3.1', platform='ollama')"
   ]
  },
  {
   "cell_type": "code",
   "execution_count": 3,
   "metadata": {},
   "outputs": [
    {
     "data": {
      "text/markdown": [
       "The following hosts are reachable from the London node:\n",
       "\n",
       "1. **registry.my-netdata.io** - Reachable\n",
       "2. **toronto.netdata.rocks** - Reachable\n",
       "3. **sanfrancisco** - Reachable\n",
       "4. **frankfurt.netdata.rocks** - Reachable\n",
       "5. **newyork.netdata.rocks** - Reachable\n",
       "6. **singapore.netdata.rocks** - Reachable\n",
       "7. **d1.firehol.org** - Reachable\n",
       "8. **bangalore** - Reachable\n",
       "\n",
       "Additionally, there is one host that is not reachable:\n",
       "\n",
       "- **cdn77** - Not reachable\n",
       "\n",
       "Reachability is indicated by the number of hops, with all listed hosts being reachable from the London node."
      ],
      "text/plain": [
       "<IPython.core.display.Markdown object>"
      ]
     },
     "metadata": {},
     "output_type": "display_data"
    }
   ],
   "source": [
    "# chat with agent\n",
    "msg = 'What hosts are reachable from the london node?'\n",
    "print_md(agent.chat(msg, return_last=True))"
   ]
  },
  {
   "cell_type": "code",
   "execution_count": 3,
   "metadata": {},
   "outputs": [
    {
     "data": {
      "text/markdown": [
       "Over the past hour, the CPU utilization on the London server (`https://london3.my-netdata.io/`) has varied across different components. Here's a summary of CPU usage in percentages for key components:\n",
       "\n",
       "- **User** CPU utilization has fluctuated, with an average around 4.3%.\n",
       "- **System** CPU utilization has averaged around 1.8%.\n",
       "- **I/O Wait** has been minimal, averaging around 0.02%.\n",
       "- **SoftIRQ** has hovered around 0.64%.\n",
       "- **Steal** has been very low, averaging around 0.09%.\n",
       "\n",
       "These values indicate a relatively low load on the system, with user processes consuming the majority of CPU resources. If you need more detailed analysis or further breakdowns, feel free to ask!"
      ],
      "text/plain": [
       "<IPython.core.display.Markdown object>"
      ]
     },
     "metadata": {},
     "output_type": "display_data"
    }
   ],
   "source": [
    "msg = 'What is my CPU utilization recently on london?'\n",
    "print_md(agent.chat(msg, return_last=True))"
   ]
  },
  {
   "cell_type": "code",
   "execution_count": 5,
   "metadata": {},
   "outputs": [
    {
     "data": {
      "text/markdown": [
       "Over the last 15 minutes, here are the CPU utilization metrics for several applications on the New York node:\n",
       "\n",
       "1. **app.go_d_plugin_cpu_utilization**:\n",
       "   - Average User CPU: 0.58\n",
       "   - Average System CPU: 0.28\n",
       "\n",
       "2. **app.ebpf_plugin_cpu_utilization**:\n",
       "   - Average User CPU: 0.00\n",
       "   - Average System CPU: 0.05\n",
       "\n",
       "3. **app.NETWORK-VIEWER_cpu_utilization**:\n",
       "   - Average User CPU: 0.00\n",
       "   - Average System CPU: 0.00\n",
       "\n",
       "4. **app.nfacct_plugin_cpu_utilization**:\n",
       "   - Average User CPU: 0.00\n",
       "   - Average System CPU: 0.00\n",
       "\n",
       "5. **app.systemd_cpu_utilization**:\n",
       "   - Average User CPU: 0.51\n",
       "   - Average System CPU: 0.02\n",
       "\n",
       "6. **app.netdata_cpu_utilization**:\n",
       "   - Average User CPU: 0.49\n",
       "   - Average System CPU: 0.42\n",
       "\n",
       "7. **app.httpd_cpu_utilization**:\n",
       "   - Average User CPU: 9.00 (notable peak)\n",
       "   - Average System CPU: 2.07\n",
       "\n",
       "8. **app.vpn_cpu_utilization**:\n",
       "   - Average User CPU: 0.00\n",
       "   - Average System CPU: 0.09\n",
       "\n",
       "9. **app.logs_cpu_utilization**:\n",
       "   - Average User CPU: 0.00\n",
       "   - Average System CPU: 0.09\n",
       "\n",
       "10. **app.nfs_cpu_utilization**:\n",
       "    - Average User CPU: 0.00\n",
       "    - Average System CPU: 0.00\n",
       "\n",
       "### Notable Observations:\n",
       "- The **app.httpd_cpu_utilization** has the highest CPU utilization, particularly in User CPU usage.\n",
       "- Several applications show negligible or zero CPU utilization over this period.\n",
       "\n",
       "Please let me know if you need more specific information or other charts!"
      ],
      "text/plain": [
       "<IPython.core.display.Markdown object>"
      ]
     },
     "metadata": {},
     "output_type": "display_data"
    }
   ],
   "source": [
    "msg = 'What apps are using most cpu on new york over the last 15 minutes?'\n",
    "print_md(agent.chat(msg, return_last=True))"
   ]
  },
  {
   "cell_type": "code",
   "execution_count": 5,
   "metadata": {},
   "outputs": [
    {
     "data": {
      "text/markdown": [
       "Here are the user processes' CPU utilization percentages over the last hour in San Francisco. The values represent the average utilization for each data point taken at intervals within the hour:\n",
       "\n",
       "- User CPU Utilization: Averages between roughly 8.5% to 10.5%.\n",
       "- System CPU Utilization: Ranges between approximately 2.1% to 3.0%.\n",
       "\n",
       "Note that there are some missing data points. However, overall trends indicate that user processes are consuming significantly more CPU than system processes. If you need a specific breakdown by users, further analysis can be performed based on user-specific data if available."
      ],
      "text/plain": [
       "<IPython.core.display.Markdown object>"
      ]
     },
     "metadata": {},
     "output_type": "display_data"
    }
   ],
   "source": [
    "msg = 'What users are using most cpu on sanfransicso the last hour?'\n",
    "print_md(agent.chat(msg, return_last=True))"
   ]
  },
  {
   "cell_type": "code",
   "execution_count": 6,
   "metadata": {},
   "outputs": [
    {
     "data": {
      "text/markdown": [
       "Here are the CPU utilizations for specific users on the Bangalore server over the last 5 minutes:\n",
       "\n",
       "- **Netdata User**: 10.12% user CPU utilization, 3.02% system CPU utilization\n",
       "- **SSHD User**: 0.01% user CPU utilization, 0% system CPU utilization\n",
       "- **Debian-Exim User**: 0% user CPU utilization, 0% system CPU utilization\n",
       "- **WWW-Data User**: 0.02% user CPU utilization, 0.04% system CPU utilization\n",
       "\n",
       "The Netdata user is currently using the most CPU."
      ],
      "text/plain": [
       "<IPython.core.display.Markdown object>"
      ]
     },
     "metadata": {},
     "output_type": "display_data"
    }
   ],
   "source": [
    "msg = 'What specific users are using most cpu on bangalore?'\n",
    "print_md(agent.chat(msg, return_last=True))"
   ]
  },
  {
   "cell_type": "code",
   "execution_count": 7,
   "metadata": {},
   "outputs": [
    {
     "data": {
      "text/markdown": [
       "The RAM usage on the Bangalore node is as follows (in MB):\n",
       "\n",
       "- **Free RAM**: varies between approximately 157 MB to 170 MB.\n",
       "- **Used RAM**: hovers around 951 MB to 964 MB.\n",
       "- **Cached**: remains steady at approximately 717 MB.\n",
       "- **Buffers**: remains steady at approximately 127 MB. \n",
       "\n",
       "These values give a snapshot of the current RAM utilization."
      ],
      "text/plain": [
       "<IPython.core.display.Markdown object>"
      ]
     },
     "metadata": {},
     "output_type": "display_data"
    }
   ],
   "source": [
    "msg = 'what is the ram usage like on bangalore node?'\n",
    "print_md(agent.chat(msg, return_last=True))"
   ]
  },
  {
   "cell_type": "code",
   "execution_count": 8,
   "metadata": {},
   "outputs": [
    {
     "data": {
      "text/markdown": [
       "Here's a quick summary of the current MySQL metrics for the London host:\n",
       "\n",
       "1. **CPU Utilization**: \n",
       "   - User CPU utilization fluctuates between approximately 0.28 to 0.48.\n",
       "   - System CPU utilization remains much lower in comparison, occasionally spiking.\n",
       "\n",
       "2. **Memory Usage**: \n",
       "   - Unfortunately, there was an SSL error while attempting to retrieve memory usage data, preventing a complete analysis. It may be necessary to check the connection or the server's SSL configuration.\n",
       "\n",
       "3. **Connections**: \n",
       "   - The data indicates no open or aborted connections for the checked interval.\n",
       "\n",
       "4. **Queries**: \n",
       "   - Both regular and slow queries appear steady, maintaining a rate of approximately six queries/sec, with no slow queries detected in the last few minutes.\n",
       "\n",
       "If you have any specific metrics you'd like me to investigate or need further assistance, feel free to ask!"
      ],
      "text/plain": [
       "<IPython.core.display.Markdown object>"
      ]
     },
     "metadata": {},
     "output_type": "display_data"
    }
   ],
   "source": [
    "msg = 'How are the mysql metrics looking on the london?'\n",
    "print_md(agent.chat(msg, return_last=True))"
   ]
  },
  {
   "cell_type": "code",
   "execution_count": 11,
   "metadata": {},
   "outputs": [
    {
     "data": {
      "text/markdown": [
       "There are currently two active alarms on the Toronto Netdata instance:\n",
       "\n",
       "1. **Alarm Name:** 10min_qos_packet_drops\n",
       "   - **Chart:** `tc.eth0_dropped`\n",
       "   - **Status:** WARNING\n",
       "   - **Value:** 2 packets\n",
       "   - **Info:** Dropped packets in the last 5 minutes\n",
       "   - **Summary:** QOS packet drops\n",
       "\n",
       "2. **Alarm Name:** 10min_qos_packet_drops\n",
       "   - **Chart:** `tc.eth0-ifb_dropped`\n",
       "   - **Status:** WARNING\n",
       "   - **Value:** 4 packets\n",
       "   - **Info:** Dropped packets in the last 5 minutes\n",
       "   - **Summary:** QOS packet drops\n",
       "\n",
       "Both alarms indicate that there are packet drops occurring in the specified time frame."
      ],
      "text/plain": [
       "<IPython.core.display.Markdown object>"
      ]
     },
     "metadata": {},
     "output_type": "display_data"
    }
   ],
   "source": [
    "msg = 'any active alarms on toronto?'\n",
    "print_md(agent.chat(msg, return_last=True))"
   ]
  },
  {
   "cell_type": "code",
   "execution_count": 12,
   "metadata": {},
   "outputs": [
    {
     "data": {
      "text/markdown": [
       "The active alarms indicate that there are packets being dropped in the network interface cards monitored by the respective charts. Here's a breakdown of what this means:\n",
       "\n",
       "1. **Packet Drops**: Packet drops occur when a device cannot process incoming packets fast enough. This can be due to several reasons such as high traffic, insufficient resources (CPU, memory), network congestion, or hardware issues.\n",
       "\n",
       "2. **Implications**:\n",
       "   - If your application relies on real-time communication (like VoIP, online gaming, or streaming services), packet drops can lead to performance issues like lag, interruptions, or lower quality service.\n",
       "   - If this is happening on a critical service or application, it may affect the availability or reliability of your services.\n",
       "\n",
       "3. **Should You Be Worried?**:\n",
       "   - **Short Intervals**: If this is a transient issue (i.e., it happens for a short time and is followed by no further drops), it may not be a major concern.\n",
       "   - **Persisting Issues**: If these alarms persist, you should investigate the cause. It may require tuning your network settings, allocating more resources, or checking for hardware issues.\n",
       "\n",
       "### Recommended Actions:\n",
       "- Monitor the charts for trends in packet drops.\n",
       "- Check the health of your network equipment (routers, switches).\n",
       "- Analyze traffic patterns to see if there are spikes in usage that coincide with the packet drops.\n",
       "- Consider setting up additional alarms or performance metrics to get alerted if the situation worsens.\n",
       "\n",
       "In summary, while packet drops are a cause for concern, especially if they’re consistent, they are not necessarily an immediate crisis. Proactive monitoring and analysis will help ensure that any potential issues are managed swiftly."
      ],
      "text/plain": [
       "<IPython.core.display.Markdown object>"
      ]
     },
     "metadata": {},
     "output_type": "display_data"
    }
   ],
   "source": [
    "msg = 'what do the alarms mean? should i be worried?'\n",
    "print_md(agent.chat(msg, return_last=True, continue_chat=True))"
   ]
  },
  {
   "cell_type": "code",
   "execution_count": 11,
   "metadata": {},
   "outputs": [
    {
     "data": {
      "text/markdown": [
       "Here's a summary of the Nginx metrics on the London node over the last couple of hours:\n",
       "\n",
       "1. **Connections**: The average number of active connections is around 151, with fluctuations between 135 and 167 observed periodically.\n",
       "\n",
       "2. **Requests**: Approximately 10–11 requests were handled on average per data point during the period.\n",
       "\n",
       "3. **Accepted and Handled Connections**: There's a steady rate of accepted and handled connections, which appears to hover slightly under 1 connection per data interval on average.\n",
       "\n",
       "4. **Connection Status**:\n",
       "   - Most connections are idle, ranging from around 128 to 166 on average.\n",
       "   - The number of active writing connections is generally stable at about 1.\n",
       "\n",
       "These metrics indicate relatively steady activity on the Nginx server in London with no significant variations observed in the last couple of hours. If you need further details or have specific questions about these metrics, feel free to ask!"
      ],
      "text/plain": [
       "<IPython.core.display.Markdown object>"
      ]
     },
     "metadata": {},
     "output_type": "display_data"
    }
   ],
   "source": [
    "msg = 'How are the nginx metrics looking on the london node over he last couple of hours?'\n",
    "print_md(agent.chat(msg, return_last=True))"
   ]
  },
  {
   "cell_type": "code",
   "execution_count": null,
   "metadata": {},
   "outputs": [],
   "source": []
  }
 ],
 "metadata": {
  "kernelspec": {
   "display_name": "venv",
   "language": "python",
   "name": "python3"
  },
  "language_info": {
   "codemirror_mode": {
    "name": "ipython",
    "version": 3
   },
   "file_extension": ".py",
   "mimetype": "text/x-python",
   "name": "python",
   "nbconvert_exporter": "python",
   "pygments_lexer": "ipython3",
   "version": "3.11.9"
  }
 },
 "nbformat": 4,
 "nbformat_minor": 2
}
