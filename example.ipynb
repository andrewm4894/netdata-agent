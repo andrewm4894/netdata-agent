{
 "cells": [
  {
   "cell_type": "code",
   "execution_count": 1,
   "metadata": {},
   "outputs": [],
   "source": [
    "from netdata_llm_agent import create_netdata_agent\n",
    "\n",
    "base_url = 'http://localhost:19999'"
   ]
  },
  {
   "cell_type": "code",
   "execution_count": 17,
   "metadata": {},
   "outputs": [],
   "source": [
    "agent = create_netdata_agent(base_url)"
   ]
  },
  {
   "cell_type": "code",
   "execution_count": 18,
   "metadata": {},
   "outputs": [
    {
     "name": "stdout",
     "output_type": "stream",
     "text": [
      "\n",
      "\n",
      "\u001b[1m> Entering new AgentExecutor chain...\u001b[0m\n",
      "\u001b[32;1m\u001b[1;3mThought: To answer this question, I need to use the get_netdata_info tool to get high-level system info from Netdata, which includes disk space information.\n",
      "Action:\n",
      "```\n",
      "{\n",
      "  \"action\": \"get_netdata_info\",\n",
      "  \"action_input\": {}\n",
      "}\n",
      "```\u001b[0m\n",
      "Observation: \u001b[36;1m\u001b[1;3mnetdata version = v2.2.2\n",
      "hostname = DESKTOP-EPFRI6A\n",
      "operating system = Microsoft Windows\n",
      "operating system version = Microsoft Windows Version 11, Build 26100\n",
      "cores total = 8\n",
      "total disk space = 494851325952\n",
      "ram total = 17179869184\n",
      "\u001b[0m\n",
      "Thought:\u001b[32;1m\u001b[1;3mThe get_netdata_info tool has provided the total disk space in bytes. I need to convert this to a more readable format for the user. The total disk space is 494851325952 bytes, which is approximately 461.27 GB. Now I can provide the answer to the user. \n",
      "Action:\n",
      "```\n",
      "{\n",
      "  \"action\": \"Final Answer\",\n",
      "  \"action_input\": \"You have approximately 461.27 GB of total disk space.\"\n",
      "}\n",
      "```\u001b[0m\n",
      "\n",
      "\u001b[1m> Finished chain.\u001b[0m\n",
      "You have approximately 461.27 GB of total disk space.\n"
     ]
    }
   ],
   "source": [
    "response = agent.run(\"How much disk space do I have?\")\n",
    "print(response)"
   ]
  },
  {
   "cell_type": "code",
   "execution_count": 19,
   "metadata": {},
   "outputs": [
    {
     "name": "stdout",
     "output_type": "stream",
     "text": [
      "\n",
      "\n",
      "\u001b[1m> Entering new AgentExecutor chain...\u001b[0m\n",
      "\u001b[32;1m\u001b[1;3mThought: To answer this question, I need to get the current version of Netdata installed on the system. I can use the get_netdata_info tool to retrieve this information.\n",
      "Action:\n",
      "```\n",
      "{\n",
      "  \"action\": \"get_netdata_info\",\n",
      "  \"action_input\": {}\n",
      "}\n",
      "```\u001b[0m\n",
      "Observation: \u001b[36;1m\u001b[1;3mnetdata version = v2.2.2\n",
      "hostname = DESKTOP-EPFRI6A\n",
      "operating system = Microsoft Windows\n",
      "operating system version = Microsoft Windows Version 11, Build 26100\n",
      "cores total = 8\n",
      "total disk space = 494851325952\n",
      "ram total = 17179869184\n",
      "\u001b[0m\n",
      "Thought:\u001b[32;1m\u001b[1;3mThe current version of Netdata installed on the system is v2.2.2. To determine if this is the latest version, I would need to compare it with the latest version available on the Netdata website or repository. However, as an AI, I don't have real-time access to the internet to check the latest version. I recommend checking the Netdata website or its GitHub repository to see if a newer version is available.\u001b[0m\n",
      "\n",
      "\u001b[1m> Finished chain.\u001b[0m\n",
      "The current version of Netdata installed on the system is v2.2.2. To determine if this is the latest version, I would need to compare it with the latest version available on the Netdata website or repository. However, as an AI, I don't have real-time access to the internet to check the latest version. I recommend checking the Netdata website or its GitHub repository to see if a newer version is available.\n"
     ]
    }
   ],
   "source": [
    "response = agent.run(\"Is my netdata version up to date?\")\n",
    "print(response)"
   ]
  },
  {
   "cell_type": "code",
   "execution_count": 20,
   "metadata": {},
   "outputs": [
    {
     "name": "stdout",
     "output_type": "stream",
     "text": [
      "\n",
      "\n",
      "\u001b[1m> Entering new AgentExecutor chain...\u001b[0m\n",
      "\u001b[32;1m\u001b[1;3mThe assistant needs to use the get_netdata_info tool to get high-level system info, which includes disk space information.\n",
      "Action:\n",
      "```\n",
      "{\n",
      "  \"action\": \"get_netdata_info\",\n",
      "  \"action_input\": {}\n",
      "}\n",
      "```\u001b[0m\n",
      "Observation: \u001b[36;1m\u001b[1;3mnetdata version = v2.2.2\n",
      "hostname = DESKTOP-EPFRI6A\n",
      "operating system = Microsoft Windows\n",
      "operating system version = Microsoft Windows Version 11, Build 26100\n",
      "cores total = 8\n",
      "total disk space = 494851325952\n",
      "ram total = 17179869184\n",
      "\u001b[0m\n",
      "Thought:\u001b[32;1m\u001b[1;3mThe information about the total disk space is available from the get_netdata_info tool. However, the user asked for the free disk space, not the total disk space. Unfortunately, the get_netdata_info tool does not provide information about the free disk space. I will need to inform the user that I am unable to provide the requested information. \n",
      "Action:\n",
      "```\n",
      "{\n",
      "  \"action\": \"Final Answer\",\n",
      "  \"action_input\": \"I'm sorry, but I am unable to provide the current free disk space. I can only provide the total disk space, which is approximately 494.85 GB.\"\n",
      "}\n",
      "```\u001b[0m\n",
      "\n",
      "\u001b[1m> Finished chain.\u001b[0m\n",
      "I'm sorry, but I am unable to provide the current free disk space. I can only provide the total disk space, which is approximately 494.85 GB.\n"
     ]
    }
   ],
   "source": [
    "response = agent.run(\"How much free disk space do I have?\")\n",
    "print(response)"
   ]
  },
  {
   "cell_type": "code",
   "execution_count": null,
   "metadata": {},
   "outputs": [],
   "source": []
  },
  {
   "cell_type": "code",
   "execution_count": null,
   "metadata": {},
   "outputs": [],
   "source": []
  },
  {
   "cell_type": "code",
   "execution_count": null,
   "metadata": {},
   "outputs": [],
   "source": []
  },
  {
   "cell_type": "code",
   "execution_count": null,
   "metadata": {},
   "outputs": [],
   "source": []
  }
 ],
 "metadata": {
  "kernelspec": {
   "display_name": "Python 3",
   "language": "python",
   "name": "python3"
  },
  "language_info": {
   "codemirror_mode": {
    "name": "ipython",
    "version": 3
   },
   "file_extension": ".py",
   "mimetype": "text/x-python",
   "name": "python",
   "nbconvert_exporter": "python",
   "pygments_lexer": "ipython3",
   "version": "3.12.1"
  }
 },
 "nbformat": 4,
 "nbformat_minor": 2
}
