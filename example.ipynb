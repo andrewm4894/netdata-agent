{
 "cells": [
  {
   "cell_type": "code",
   "execution_count": 1,
   "metadata": {},
   "outputs": [
    {
     "name": "stdout",
     "output_type": "stream",
     "text": [
      "================================\u001b[1m Human Message \u001b[0m=================================\n",
      "\n",
      "How much disk space do i have?\n",
      "==================================\u001b[1m Ai Message \u001b[0m==================================\n",
      "Tool Calls:\n",
      "  get_netdata_info (call_z3UdHeDcsWZgm2w3KTsSLJa3)\n",
      " Call ID: call_z3UdHeDcsWZgm2w3KTsSLJa3\n",
      "  Args:\n",
      "    base_url: https://london3.my-netdata.io/\n",
      "=================================\u001b[1m Tool Message \u001b[0m=================================\n",
      "Name: get_netdata_info\n",
      "\n",
      "netdata version = v2.2.0-70-nightly\n",
      "hostname = registry.my-netdata.io\n",
      "operating system = Debian GNU/Linux\n",
      "operating system version = debian\n",
      "cores total = 4\n",
      "total disk space = 171799128064\n",
      "ram total = 8326430720\n",
      "\n",
      "==================================\u001b[1m Ai Message \u001b[0m==================================\n",
      "\n",
      "You have a total disk space of approximately 171.8 GB.\n"
     ]
    }
   ],
   "source": [
    "from netdata_llm_agent import NetdataLLMAgent\n",
    "\n",
    "# create agent\n",
    "agent = NetdataLLMAgent(base_url='https://london3.my-netdata.io/', model='gpt-4o')\n",
    "\n",
    "# chat with agent\n",
    "agent.chat('How much disk space do i have?')"
   ]
  },
  {
   "cell_type": "code",
   "execution_count": 2,
   "metadata": {},
   "outputs": [
    {
     "name": "stdout",
     "output_type": "stream",
     "text": [
      "==================================\u001b[1m Ai Message \u001b[0m==================================\n",
      "\n",
      "Here is a snapshot of your recent CPU utilization across various metrics:\n",
      "\n",
      "- **User CPU Usage**: Ranges from about 4.06% to 9.32%\n",
      "- **System CPU Usage**: Ranges from about 1.01% to 3.78%\n",
      "- **I/O Wait**: Close to 0%\n",
      "- **Soft IRQ**: Ranges from about 0.25% to 1.25%\n",
      "- **Steal**: Occasionally peaking at 6.40% but often 0%\n",
      "- **IRQ**: Consistently 0%\n",
      "- **Nice and Guest CPU Usage**: Consistently 0%\n",
      "\n",
      "The values are percentage utilization for each metric. If you have any specific questions or need further analysis, feel free to ask!\n"
     ]
    }
   ],
   "source": [
    "# chat with agent\n",
    "agent.chat('What is my CPU utilization recently', verbose=False)"
   ]
  },
  {
   "cell_type": "code",
   "execution_count": null,
   "metadata": {},
   "outputs": [],
   "source": []
  },
  {
   "cell_type": "code",
   "execution_count": null,
   "metadata": {},
   "outputs": [],
   "source": []
  }
 ],
 "metadata": {
  "kernelspec": {
   "display_name": "Python 3",
   "language": "python",
   "name": "python3"
  },
  "language_info": {
   "codemirror_mode": {
    "name": "ipython",
    "version": 3
   },
   "file_extension": ".py",
   "mimetype": "text/x-python",
   "name": "python",
   "nbconvert_exporter": "python",
   "pygments_lexer": "ipython3",
   "version": "3.12.1"
  }
 },
 "nbformat": 4,
 "nbformat_minor": 2
}
