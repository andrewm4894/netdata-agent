{
 "cells": [
  {
   "cell_type": "code",
   "execution_count": 8,
   "metadata": {},
   "outputs": [],
   "source": [
    "from IPython.display import display, Markdown, Latex\n",
    "\n",
    "from netdata_llm_agent import NetdataLLMAgent\n",
    "\n",
    "\n",
    "def print_md(text):\n",
    "    display(Markdown(text))\n",
    "\n",
    "\n",
    "# list of netdata urls to interact with\n",
    "netdata_urls = [\n",
    "    'https://london3.my-netdata.io/', \n",
    "    'https://bangalore.my-netdata.io/',\n",
    "    'https://newyork.my-netdata.io/',\n",
    "    'https://sanfrancisco.my-netdata.io/',\n",
    "    'https://singapore.my-netdata.io/',\n",
    "    'https://toronto.my-netdata.io/',\n",
    "]\n",
    "\n",
    "# create agent\n",
    "agent = NetdataLLMAgent(netdata_urls)"
   ]
  },
  {
   "cell_type": "code",
   "execution_count": 1,
   "metadata": {},
   "outputs": [
    {
     "data": {
      "text/markdown": [
       "The London node can reach and is connected to the following hosts:\n",
       "\n",
       "1. **registry.my-netdata.io** - Direct connection (0 hops)\n",
       "2. **frankfurt.netdata.rocks** - 1 hop\n",
       "3. **newyork.netdata.rocks** - 3 hops\n",
       "4. **singapore.netdata.rocks** - 6 hops\n",
       "5. **sanfrancisco** - 2 hops\n",
       "6. **toronto.netdata.rocks** - 4 hops\n",
       "7. **bangalore** - 5 hops\n",
       "8. **d1.firehol.org** - 6 hops\n",
       "\n",
       "It is important to note that while these hosts are reachable, there is one host, `cdn77`, which is not reachable at the moment."
      ],
      "text/plain": [
       "<IPython.core.display.Markdown object>"
      ]
     },
     "metadata": {},
     "output_type": "display_data"
    }
   ],
   "source": [
    "# chat with agent\n",
    "msg = 'What hosts are reachable from the london node?'\n",
    "print_md(agent.chat(msg, return_last=True))"
   ]
  },
  {
   "cell_type": "code",
   "execution_count": 9,
   "metadata": {},
   "outputs": [
    {
     "data": {
      "text/markdown": [
       "Here's the recent CPU utilization data for London:\n",
       "\n",
       "- **User**: Ranges from approximately 3.25% to 7.02%\n",
       "- **System**: Ranges from approximately 1.26% to 4.23%\n",
       "- **IOWait**: Mostly at 0%, occasionally up to 0.25%\n",
       "- **SoftIRQ**: Ranges from 0.25% to 2.48%\n",
       "- **Steal**: Up to 3.70%\n",
       "\n",
       "The data shows that the CPU is moderately utilized, with some variation in user and system percentages. Let me know if there's anything else you need!"
      ],
      "text/plain": [
       "<IPython.core.display.Markdown object>"
      ]
     },
     "metadata": {},
     "output_type": "display_data"
    }
   ],
   "source": [
    "msg = 'What is my CPU utilization recently on london?'\n",
    "print_md(agent.chat(msg, return_last=True))"
   ]
  },
  {
   "cell_type": "code",
   "execution_count": 10,
   "metadata": {},
   "outputs": [
    {
     "data": {
      "text/markdown": [
       "Over the last 15 minutes, some of the applications using significant CPU on the New York host are observed through the \"app.apps_plugin_cpu_utilization\" chart. \n",
       "\n",
       "Here's an approximation of the CPU utilization:\n",
       "- **User mode** CPU ranges between `0.1988%` to `0.2355%`.\n",
       "- **System mode** CPU averages around `0.4605%`.\n",
       "\n",
       "These values represent aggregated CPU utilization percentages across applications on this system."
      ],
      "text/plain": [
       "<IPython.core.display.Markdown object>"
      ]
     },
     "metadata": {},
     "output_type": "display_data"
    }
   ],
   "source": [
    "msg = 'What apps are using most cpu on new york? over the last 15 minutes lets say'\n",
    "print_md(agent.chat(msg, return_last=True))"
   ]
  },
  {
   "cell_type": "code",
   "execution_count": 11,
   "metadata": {},
   "outputs": [
    {
     "data": {
      "text/markdown": [
       "It seems like there's a typo in the location name. Did you mean \"sanfrancisco\"? If so, I can get the CPU usage per user on the San Francisco host for the last hour. Please confirm or correct the location name if needed."
      ],
      "text/plain": [
       "<IPython.core.display.Markdown object>"
      ]
     },
     "metadata": {},
     "output_type": "display_data"
    }
   ],
   "source": [
    "msg = 'What users are using most cpu over on sanfransicso the last hour?'\n",
    "print_md(agent.chat(msg, return_last=True))"
   ]
  },
  {
   "cell_type": "code",
   "execution_count": 13,
   "metadata": {},
   "outputs": [
    {
     "data": {
      "text/markdown": [
       "It seems that there has been an error retrieving the CPU utilization data for user processes on some data fetches. Nonetheless, here is the available data for user CPU utilization:\n",
       "\n",
       "1. **Root User**: \n",
       "   - Consistently shows zero CPU activity over the sampled period.\n",
       "\n",
       "2. **Systemd-Timesync User**: \n",
       "   - Also shows almost zero CPU activity over the sampled period.\n",
       "\n",
       "3. **Systemd-Journal-upload User**: \n",
       "   - Low CPU activity, mostly zero utilization.\n",
       "\n",
       "4. **WWW-Data User**: \n",
       "   - Mostly zero utilization with occasional minor spikes.\n",
       "\n",
       "5. **Debian-Exim User**: \n",
       "   - Shows high CPU usage, particularly in recent samples. \n",
       "\n",
       "6. **Netdata User**: \n",
       "   - Very active, consistently showing significant CPU usage across the periods sampled.\n",
       "\n",
       "These figures indicate that the Debian-Exim and Netdata users on the Bangalore system are the most CPU intensive at present, with Netdata consistently showing high usage possibly due to monitoring activities."
      ],
      "text/plain": [
       "<IPython.core.display.Markdown object>"
      ]
     },
     "metadata": {},
     "output_type": "display_data"
    }
   ],
   "source": [
    "msg = 'What specific users are using most cpu on bangalore?'\n",
    "print_md(agent.chat(msg, return_last=True))"
   ]
  },
  {
   "cell_type": "code",
   "execution_count": 14,
   "metadata": {},
   "outputs": [
    {
     "data": {
      "text/markdown": [
       "The RAM usage on the Bangalore node shows that the used RAM is approximately 933 MB, free RAM is approximately 90 MB, cached RAM is approximately 847 MB, and buffers are approximately 97 MB. This data reflects recent observations, but keep in mind that memory usage can fluctuate with system load and processes."
      ],
      "text/plain": [
       "<IPython.core.display.Markdown object>"
      ]
     },
     "metadata": {},
     "output_type": "display_data"
    }
   ],
   "source": [
    "msg = 'what is the ram usage like on bangalore node?'\n",
    "print_md(agent.chat(msg, return_last=True))"
   ]
  }
 ],
 "metadata": {
  "kernelspec": {
   "display_name": "Python 3",
   "language": "python",
   "name": "python3"
  },
  "language_info": {
   "codemirror_mode": {
    "name": "ipython",
    "version": 3
   },
   "file_extension": ".py",
   "mimetype": "text/x-python",
   "name": "python",
   "nbconvert_exporter": "python",
   "pygments_lexer": "ipython3",
   "version": "3.12.1"
  }
 },
 "nbformat": 4,
 "nbformat_minor": 2
}
