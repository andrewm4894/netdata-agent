{
 "cells": [
  {
   "cell_type": "code",
   "execution_count": 1,
   "metadata": {},
   "outputs": [],
   "source": [
    "from IPython.display import display, Markdown, Latex\n",
    "\n",
    "from netdata_llm_agent import NetdataLLMAgent\n",
    "\n",
    "\n",
    "def print_md(text):\n",
    "    display(Markdown(text))\n",
    "\n",
    "\n",
    "# list of netdata urls to interact with\n",
    "netdata_urls = [\n",
    "    'https://london3.my-netdata.io/', \n",
    "    'https://bangalore.my-netdata.io/',\n",
    "    'https://newyork.my-netdata.io/',\n",
    "    'https://sanfrancisco.my-netdata.io/',\n",
    "    'https://singapore.my-netdata.io/',\n",
    "    'https://toronto.my-netdata.io/',\n",
    "]\n",
    "\n",
    "# create agent\n",
    "agent = NetdataLLMAgent(netdata_urls)"
   ]
  },
  {
   "cell_type": "code",
   "execution_count": 2,
   "metadata": {},
   "outputs": [
    {
     "data": {
      "text/markdown": [
       "The london node's Netdata URL is `https://london3.my-netdata.io/`. However, to determine what other hosts or nodes are reachable from this node, you'd typically refer to networking configurations or specific Netdata settings that mention mirroring or connectivity options between nodes, which are likely maintained in a separate configuration setting rather than through the API directly.\n",
       "\n",
       "If you want to examine the current statistics or charts available from the London node, I can assist with that. Let me know if I should proceed with checking the available charts or any other information."
      ],
      "text/plain": [
       "<IPython.core.display.Markdown object>"
      ]
     },
     "metadata": {},
     "output_type": "display_data"
    }
   ],
   "source": [
    "# chat with agent\n",
    "msg = 'What hosts are reachable from the london node?'\n",
    "print_md(agent.chat(msg, return_last=True))"
   ]
  },
  {
   "cell_type": "code",
   "execution_count": 3,
   "metadata": {},
   "outputs": [
    {
     "data": {
      "text/markdown": [
       "The recent CPU utilization for the London server is distributed across various components of the CPU system. Here's a summary of the average utilization over the past 5 minutes:\n",
       "\n",
       "- **User**: Approximately 4.36%\n",
       "- **System**: Approximately 1.64%\n",
       "- **SoftIRQ**: Approximately 0.53%\n",
       "- **I/O Wait**: Approximately 0.05%\n",
       "- **Steal**: Approximately 0.11%\n",
       "- **Irq, Nice, Guest, and Guest nice**: Close to 0%\n",
       "\n",
       "Each percentage here represents the proportion of time the CPU spent on each of these tasks relative to the total CPU time. Let me know if you need further details or analysis on any specific component."
      ],
      "text/plain": [
       "<IPython.core.display.Markdown object>"
      ]
     },
     "metadata": {},
     "output_type": "display_data"
    }
   ],
   "source": [
    "msg = 'What is my CPU utilization recently on london?'\n",
    "print_md(agent.chat(msg, return_last=True))"
   ]
  },
  {
   "cell_type": "code",
   "execution_count": 4,
   "metadata": {},
   "outputs": [
    {
     "data": {
      "text/markdown": [
       "In the last 15 minutes on the New York server, the application system has utilized CPU resources as follows:\n",
       "\n",
       "- User Mode CPU Utilization: 5.97%\n",
       "- System Mode CPU Utilization: 2.61%\n",
       "\n",
       "If you're interested in more detailed insights or specific applications, please let me know!"
      ],
      "text/plain": [
       "<IPython.core.display.Markdown object>"
      ]
     },
     "metadata": {},
     "output_type": "display_data"
    }
   ],
   "source": [
    "msg = 'What apps are using most cpu on new york? over the last 15 minutes lets say'\n",
    "print_md(agent.chat(msg, return_last=True))"
   ]
  },
  {
   "cell_type": "code",
   "execution_count": 5,
   "metadata": {},
   "outputs": [
    {
     "data": {
      "text/markdown": [
       "Here are the user processes' CPU utilization percentages over the last hour in San Francisco. The values represent the average utilization for each data point taken at intervals within the hour:\n",
       "\n",
       "- User CPU Utilization: Averages between roughly 8.5% to 10.5%.\n",
       "- System CPU Utilization: Ranges between approximately 2.1% to 3.0%.\n",
       "\n",
       "Note that there are some missing data points. However, overall trends indicate that user processes are consuming significantly more CPU than system processes. If you need a specific breakdown by users, further analysis can be performed based on user-specific data if available."
      ],
      "text/plain": [
       "<IPython.core.display.Markdown object>"
      ]
     },
     "metadata": {},
     "output_type": "display_data"
    }
   ],
   "source": [
    "msg = 'What users are using most cpu on sanfransicso the last hour?'\n",
    "print_md(agent.chat(msg, return_last=True))"
   ]
  },
  {
   "cell_type": "code",
   "execution_count": 6,
   "metadata": {},
   "outputs": [
    {
     "data": {
      "text/markdown": [
       "Here are the CPU utilizations for specific users on the Bangalore server over the last 5 minutes:\n",
       "\n",
       "- **Netdata User**: 10.12% user CPU utilization, 3.02% system CPU utilization\n",
       "- **SSHD User**: 0.01% user CPU utilization, 0% system CPU utilization\n",
       "- **Debian-Exim User**: 0% user CPU utilization, 0% system CPU utilization\n",
       "- **WWW-Data User**: 0.02% user CPU utilization, 0.04% system CPU utilization\n",
       "\n",
       "The Netdata user is currently using the most CPU."
      ],
      "text/plain": [
       "<IPython.core.display.Markdown object>"
      ]
     },
     "metadata": {},
     "output_type": "display_data"
    }
   ],
   "source": [
    "msg = 'What specific users are using most cpu on bangalore?'\n",
    "print_md(agent.chat(msg, return_last=True))"
   ]
  },
  {
   "cell_type": "code",
   "execution_count": 7,
   "metadata": {},
   "outputs": [
    {
     "data": {
      "text/markdown": [
       "The RAM usage on the Bangalore node is as follows (in MB):\n",
       "\n",
       "- **Free RAM**: varies between approximately 157 MB to 170 MB.\n",
       "- **Used RAM**: hovers around 951 MB to 964 MB.\n",
       "- **Cached**: remains steady at approximately 717 MB.\n",
       "- **Buffers**: remains steady at approximately 127 MB. \n",
       "\n",
       "These values give a snapshot of the current RAM utilization."
      ],
      "text/plain": [
       "<IPython.core.display.Markdown object>"
      ]
     },
     "metadata": {},
     "output_type": "display_data"
    }
   ],
   "source": [
    "msg = 'what is the ram usage like on bangalore node?'\n",
    "print_md(agent.chat(msg, return_last=True))"
   ]
  },
  {
   "cell_type": "code",
   "execution_count": 8,
   "metadata": {},
   "outputs": [
    {
     "data": {
      "text/markdown": [
       "Here's a quick summary of the current MySQL metrics for the London host:\n",
       "\n",
       "1. **CPU Utilization**: \n",
       "   - User CPU utilization fluctuates between approximately 0.28 to 0.48.\n",
       "   - System CPU utilization remains much lower in comparison, occasionally spiking.\n",
       "\n",
       "2. **Memory Usage**: \n",
       "   - Unfortunately, there was an SSL error while attempting to retrieve memory usage data, preventing a complete analysis. It may be necessary to check the connection or the server's SSL configuration.\n",
       "\n",
       "3. **Connections**: \n",
       "   - The data indicates no open or aborted connections for the checked interval.\n",
       "\n",
       "4. **Queries**: \n",
       "   - Both regular and slow queries appear steady, maintaining a rate of approximately six queries/sec, with no slow queries detected in the last few minutes.\n",
       "\n",
       "If you have any specific metrics you'd like me to investigate or need further assistance, feel free to ask!"
      ],
      "text/plain": [
       "<IPython.core.display.Markdown object>"
      ]
     },
     "metadata": {},
     "output_type": "display_data"
    }
   ],
   "source": [
    "msg = 'How are the mysql metrics looking on the london?'\n",
    "print_md(agent.chat(msg, return_last=True))"
   ]
  },
  {
   "cell_type": "code",
   "execution_count": 9,
   "metadata": {},
   "outputs": [
    {
     "data": {
      "text/markdown": [
       "There are no active alarms on the Toronto node at the moment."
      ],
      "text/plain": [
       "<IPython.core.display.Markdown object>"
      ]
     },
     "metadata": {},
     "output_type": "display_data"
    }
   ],
   "source": [
    "msg = 'any active alarms on the toronto node?'\n",
    "print_md(agent.chat(msg, return_last=True))"
   ]
  },
  {
   "cell_type": "code",
   "execution_count": 10,
   "metadata": {},
   "outputs": [
    {
     "data": {
      "text/markdown": [
       "There are currently no active alarms on the Toronto node, so there's no alarm to explain. If you have a specific alarm in mind from another node or if an alarm becomes active, I can help explain what it means."
      ],
      "text/plain": [
       "<IPython.core.display.Markdown object>"
      ]
     },
     "metadata": {},
     "output_type": "display_data"
    }
   ],
   "source": [
    "msg = 'what does that alarm mean?'\n",
    "print_md(agent.chat(msg, return_last=True, continue_chat=True))"
   ]
  },
  {
   "cell_type": "code",
   "execution_count": 11,
   "metadata": {},
   "outputs": [
    {
     "data": {
      "text/markdown": [
       "Here's a summary of the Nginx metrics on the London node over the last couple of hours:\n",
       "\n",
       "1. **Connections**: The average number of active connections is around 151, with fluctuations between 135 and 167 observed periodically.\n",
       "\n",
       "2. **Requests**: Approximately 10–11 requests were handled on average per data point during the period.\n",
       "\n",
       "3. **Accepted and Handled Connections**: There's a steady rate of accepted and handled connections, which appears to hover slightly under 1 connection per data interval on average.\n",
       "\n",
       "4. **Connection Status**:\n",
       "   - Most connections are idle, ranging from around 128 to 166 on average.\n",
       "   - The number of active writing connections is generally stable at about 1.\n",
       "\n",
       "These metrics indicate relatively steady activity on the Nginx server in London with no significant variations observed in the last couple of hours. If you need further details or have specific questions about these metrics, feel free to ask!"
      ],
      "text/plain": [
       "<IPython.core.display.Markdown object>"
      ]
     },
     "metadata": {},
     "output_type": "display_data"
    }
   ],
   "source": [
    "msg = 'How are the nginx metrics looking on the london node over he last couple of hours?'\n",
    "print_md(agent.chat(msg, return_last=True))"
   ]
  },
  {
   "cell_type": "code",
   "execution_count": null,
   "metadata": {},
   "outputs": [],
   "source": []
  }
 ],
 "metadata": {
  "kernelspec": {
   "display_name": "venv",
   "language": "python",
   "name": "python3"
  },
  "language_info": {
   "codemirror_mode": {
    "name": "ipython",
    "version": 3
   },
   "file_extension": ".py",
   "mimetype": "text/x-python",
   "name": "python",
   "nbconvert_exporter": "python",
   "pygments_lexer": "ipython3",
   "version": "3.11.9"
  }
 },
 "nbformat": 4,
 "nbformat_minor": 2
}
