{
 "cells": [
  {
   "cell_type": "code",
   "execution_count": 1,
   "metadata": {},
   "outputs": [],
   "source": [
    "from IPython.display import display, Markdown, Latex\n",
    "\n",
    "from netdata_llm_agent import NetdataLLMAgent\n",
    "\n",
    "\n",
    "def print_md(text):\n",
    "    display(Markdown(text))\n",
    "\n",
    "\n",
    "# list of netdata urls to interact with\n",
    "netdata_urls = [\n",
    "    'https://london3.my-netdata.io/', \n",
    "    'https://bangalore.my-netdata.io/',\n",
    "    'https://newyork.my-netdata.io/',\n",
    "    'https://sanfrancisco.my-netdata.io/',\n",
    "    'https://singapore.my-netdata.io/',\n",
    "    'https://toronto.my-netdata.io/',\n",
    "]\n",
    "\n",
    "# create agent\n",
    "agent = NetdataLLMAgent(netdata_urls)"
   ]
  },
  {
   "cell_type": "code",
   "execution_count": 12,
   "metadata": {},
   "outputs": [
    {
     "data": {
      "text/markdown": [
       "The london node you're referring to is likely `https://london3.my-netdata.io/`. The nodes or hosts that are generally part of this setup and are reachable from this node include:\n",
       "\n",
       "- `https://bangalore.my-netdata.io/`\n",
       "- `https://newyork.my-netdata.io/`\n",
       "- `https://sanfrancisco.my-netdata.io/`\n",
       "- `https://singapore.my-netdata.io/`\n",
       "- `https://toronto.my-netdata.io/`\n",
       "\n",
       "These URLs correspond to nodes which are part of a distributed Netdata monitoring setup."
      ],
      "text/plain": [
       "<IPython.core.display.Markdown object>"
      ]
     },
     "metadata": {},
     "output_type": "display_data"
    }
   ],
   "source": [
    "# chat with agent\n",
    "msg = 'What hosts are reachable from the london node?'\n",
    "print_md(agent.chat(msg, return_last=True))"
   ]
  },
  {
   "cell_type": "code",
   "execution_count": 3,
   "metadata": {},
   "outputs": [
    {
     "data": {
      "text/markdown": [
       "Recently, the CPU utilization on the London host has shown the following metrics (averaged over roughly the last hour):\n",
       "\n",
       "- **User**: Approximately 4.5% to 5%\n",
       "- **System**: Approximately 1.6% to 2.1%\n",
       "- **I/O Wait**: Less than 0.1%\n",
       "- **Steal**: Less than 0.2%\n",
       "- **SoftIRQ**: Around 0.45% to 0.55%\n",
       "- **Nice**, **IRQ**, and **Guest**: Negligible across the board.\n",
       "\n",
       "The user and system components of CPU utilization are the most significant contributors during this period."
      ],
      "text/plain": [
       "<IPython.core.display.Markdown object>"
      ]
     },
     "metadata": {},
     "output_type": "display_data"
    }
   ],
   "source": [
    "msg = 'What is my CPU utilization recently on london?'\n",
    "print_md(agent.chat(msg, return_last=True))"
   ]
  },
  {
   "cell_type": "code",
   "execution_count": 4,
   "metadata": {},
   "outputs": [
    {
     "data": {
      "text/markdown": [
       "Over the last 15 minutes, the \"ebpf_plugin\" application on the New York server has shown varying CPU utilization. Here's a summary of the CPU usage (in fractions of a core):\n",
       "\n",
       "- User CPU utilization ranges from 0.00 to 0.04.\n",
       "- System CPU utilization ranges from 0.02 to 0.10.\n",
       "\n",
       "Apps are low on user CPU usage but show a slight increase periodically in system CPU usage. If you're looking for applications utilizing more CPU resources, we might need to check other specific applications. Please let me know if you would like further details on a particular app."
      ],
      "text/plain": [
       "<IPython.core.display.Markdown object>"
      ]
     },
     "metadata": {},
     "output_type": "display_data"
    }
   ],
   "source": [
    "msg = 'What apps are using most cpu on new york? over the last 15 minutes lets say'\n",
    "print_md(agent.chat(msg, return_last=True))"
   ]
  },
  {
   "cell_type": "code",
   "execution_count": 5,
   "metadata": {},
   "outputs": [
    {
     "data": {
      "text/markdown": [
       "In the last hour on the San Francisco node, the following users showed noteworthy CPU utilization:\n",
       "\n",
       "1. **netdata**: Consistently showed CPU utilization, albeit relatively low.\n",
       "2. **messagebus**: Had occasional spikes in CPU usage but generally low.\n",
       "3. **root**: Exhibited noticeable CPU utilization.\n",
       "4. **Debian-exim**: Occasionally showed some CPU utilization peaks.\n",
       "5. **systemd**: Other users like `systemd-journal-upload` and sub-components showed minimal to no CPU activity.\n",
       "\n",
       "The `user` processes generally exhibit very low CPU utilization during this period on the San Francisco node. If you're looking for specific high CPU usage instances, we might need to explore specific timestamps or application-specific charts. Please let me know if there is any specific application or time period you'd like to investigate further."
      ],
      "text/plain": [
       "<IPython.core.display.Markdown object>"
      ]
     },
     "metadata": {},
     "output_type": "display_data"
    }
   ],
   "source": [
    "msg = 'What users are using most cpu on sanfransicso the last hour?'\n",
    "print_md(agent.chat(msg, return_last=True))"
   ]
  },
  {
   "cell_type": "code",
   "execution_count": 6,
   "metadata": {},
   "outputs": [
    {
     "data": {
      "text/markdown": [
       "Based on the recent data for CPU utilization by users on the Bangalore server, the users consuming the most CPU resources are as follows:\n",
       "\n",
       "1. **user.netdata:**\n",
       "   - CPU Utilization: Varies between approximately 9% to 17% of a single core. This appears to be the most CPU-intensive user.\n",
       "\n",
       "2. **user.sshd:**\n",
       "   - CPU Usage: Typically shows 0% usage, with occasional spikes. Not significant under typical operation.\n",
       "\n",
       "3. **user.root:**\n",
       "   - Occasional CPU spikes with values like 2.17% at some points, but generally lower when compared to user.netdata.\n",
       "\n",
       "Other users such as **user.www-data, user.Debian-exim,** and **user.unbound** display negligible or zero CPU consumption during this observed period.\n",
       "\n",
       "If you require further analysis on other specific timelines or additional user data, please let me know!"
      ],
      "text/plain": [
       "<IPython.core.display.Markdown object>"
      ]
     },
     "metadata": {},
     "output_type": "display_data"
    }
   ],
   "source": [
    "msg = 'What specific users are using most cpu on bangalore?'\n",
    "print_md(agent.chat(msg, return_last=True))"
   ]
  },
  {
   "cell_type": "code",
   "execution_count": 7,
   "metadata": {},
   "outputs": [
    {
     "data": {
      "text/markdown": [
       "The current RAM usage on the Bangalore node is as follows:\n",
       "\n",
       "- **Free**: 89.37 MiB\n",
       "- **Used**: 937.57 MiB\n",
       "- **Cached**: 808.17 MiB\n",
       "- **Buffers**: 131.84 MiB\n",
       "\n",
       "If you have any other questions or need further details, feel free to ask!"
      ],
      "text/plain": [
       "<IPython.core.display.Markdown object>"
      ]
     },
     "metadata": {},
     "output_type": "display_data"
    }
   ],
   "source": [
    "msg = 'what is the ram usage like on bangalore node?'\n",
    "print_md(agent.chat(msg, return_last=True))"
   ]
  },
  {
   "cell_type": "code",
   "execution_count": 8,
   "metadata": {},
   "outputs": [
    {
     "data": {
      "text/markdown": [
       "Here's an overview of the MySQL metrics for the London server over the past hour:\n",
       "\n",
       "1. **Threads**:\n",
       "   - The number of connected threads fluctuated around 1, with running threads consistently at 1.\n",
       "\n",
       "2. **Active Connections**:\n",
       "   - Active connections remained stable at 1 with a connection limit of 151.\n",
       "\n",
       "3. **InnoDB I/O**:\n",
       "   - No read or write operations were reported, indicating low or no disk activity within the monitored period.\n",
       "\n",
       "4. **Queries**:\n",
       "   - An average of around 6 queries were handled per second, with no slow queries recorded during this time.\n",
       "\n",
       "Overall, the MySQL server is experiencing low activity with stable connections and query management. If you need more detailed analysis or further metrics, feel free to ask!"
      ],
      "text/plain": [
       "<IPython.core.display.Markdown object>"
      ]
     },
     "metadata": {},
     "output_type": "display_data"
    }
   ],
   "source": [
    "msg = 'How are the mysql metrics looking on the london?'\n",
    "print_md(agent.chat(msg, return_last=True))"
   ]
  },
  {
   "cell_type": "code",
   "execution_count": 9,
   "metadata": {},
   "outputs": [
    {
     "data": {
      "text/markdown": [
       "I couldn't retrieve the current active alarms from the Toronto node. Please try again later or check the node's status directly."
      ],
      "text/plain": [
       "<IPython.core.display.Markdown object>"
      ]
     },
     "metadata": {},
     "output_type": "display_data"
    }
   ],
   "source": [
    "msg = 'any active alarms on the toronto node?'\n",
    "print_md(agent.chat(msg, return_last=True))"
   ]
  },
  {
   "cell_type": "code",
   "execution_count": 10,
   "metadata": {},
   "outputs": [
    {
     "data": {
      "text/markdown": [
       "I apologize for any confusion. Since I couldn't retrieve the active alarms from the Toronto node, I'm unable to provide information about a specific alarm's meaning at this time. If you have a specific alarm message or description, please provide it, and I can help explain what it typically means."
      ],
      "text/plain": [
       "<IPython.core.display.Markdown object>"
      ]
     },
     "metadata": {},
     "output_type": "display_data"
    }
   ],
   "source": [
    "msg = 'what does that alarm mean?'\n",
    "print_md(agent.chat(msg, return_last=True, continue_chat=True))"
   ]
  },
  {
   "cell_type": "code",
   "execution_count": 11,
   "metadata": {},
   "outputs": [
    {
     "data": {
      "text/markdown": [
       "For the last couple of hours, here's how the nginx metrics are performing on the London node:\n",
       "\n",
       "### Bandwidth:\n",
       "**Received** and **Sent Bandwidth** peaked and varied over time. Here's the last few data points:\n",
       "- Latest Median Received: **~60 Mbps**\n",
       "- Latest Median Sent: **~540 Mbps**\n",
       "\n",
       "### Request Processing Time:\n",
       "The request processing time shows distinct peaks, but remains fairly consistent:\n",
       "- Latest Average Processing Time: **~0.85 - 0.9 seconds**\n",
       "\n",
       "### Requests by URL Pattern:\n",
       "Different endpoints and patterns vary significantly in terms of requests, where key patterns like \"charts\" and \"registry\" show consistent activity:\n",
       "- Majority of requests are for `charts` and `registry` patterns with steady values.\n",
       "\n",
       "This overview gives you a solid high-level view of the recent nginx activity. Adjustments may be required if maintaining these numbers isn't meeting performance goals efficiently."
      ],
      "text/plain": [
       "<IPython.core.display.Markdown object>"
      ]
     },
     "metadata": {},
     "output_type": "display_data"
    }
   ],
   "source": [
    "msg = 'How are the nginx metrics looking on the london node over he last couple of hours?'\n",
    "print_md(agent.chat(msg, return_last=True))"
   ]
  },
  {
   "cell_type": "code",
   "execution_count": null,
   "metadata": {},
   "outputs": [],
   "source": []
  }
 ],
 "metadata": {
  "kernelspec": {
   "display_name": "venv",
   "language": "python",
   "name": "python3"
  },
  "language_info": {
   "codemirror_mode": {
    "name": "ipython",
    "version": 3
   },
   "file_extension": ".py",
   "mimetype": "text/x-python",
   "name": "python",
   "nbconvert_exporter": "python",
   "pygments_lexer": "ipython3",
   "version": "3.11.9"
  }
 },
 "nbformat": 4,
 "nbformat_minor": 2
}
